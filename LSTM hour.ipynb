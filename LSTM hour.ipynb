{
 "cells": [
  {
   "cell_type": "code",
   "execution_count": 1,
   "id": "e59aea37",
   "metadata": {},
   "outputs": [],
   "source": [
    "import os\n",
    "import pandas as pd\n",
    "import numpy as np\n",
    "import matplotlib.pyplot as plt\n",
    "import seaborn as sns\n",
    "from datetime import datetime\n",
    "# Ignore harmless warnings\n",
    "import warnings\n",
    "warnings.filterwarnings(\"ignore\")\n",
    "from IPython.display import HTML,display\n",
    "\n",
    "warnings.filterwarnings(\"ignore\")"
   ]
  },
  {
   "cell_type": "code",
   "execution_count": 2,
   "id": "f1e14b72",
   "metadata": {},
   "outputs": [
    {
     "name": "stdout",
     "output_type": "stream",
     "text": [
      "['.ipynb_checkpoints', 'city_day.csv', 'city_hour.csv', 'city_week.xlsx', 'LSTM hour.ipynb', 'stations.csv', 'station_day.csv', 'station_hour.csv']\n"
     ]
    }
   ],
   "source": [
    "path=(r\"C:\\Users\\raghu\\Desktop\\Internship\\PART 2\\LSTM\")\n",
    "dir_list=os.listdir(path)\n",
    "print(dir_list)"
   ]
  },
  {
   "cell_type": "code",
   "execution_count": 3,
   "id": "2e7e3da4",
   "metadata": {},
   "outputs": [],
   "source": [
    "df= pd.read_csv(r\"C:\\Users\\raghu\\Desktop\\Internship\\PART 2\\LSTM\\city_day.csv\",parse_dates=True)\n"
   ]
  },
  {
   "cell_type": "code",
   "execution_count": 5,
   "id": "4efef5e8",
   "metadata": {},
   "outputs": [],
   "source": [
    "df['Date'] = pd.to_datetime(df['Date'])"
   ]
  },
  {
   "cell_type": "code",
   "execution_count": 6,
   "id": "39fa2afb",
   "metadata": {},
   "outputs": [],
   "source": [
    "df=df[['City','Date','AQI']]"
   ]
  },
  {
   "cell_type": "code",
   "execution_count": 7,
   "id": "e4a73dc7",
   "metadata": {},
   "outputs": [],
   "source": [
    "delhi = df[df['City'] == 'Delhi']\n",
    "delhi.drop(['City'],axis=1,inplace = True)\n",
    "delhi.set_index('Date', inplace = True)"
   ]
  },
  {
   "cell_type": "code",
   "execution_count": 8,
   "id": "5f400a7a",
   "metadata": {},
   "outputs": [
    {
     "data": {
      "text/html": [
       "<div>\n",
       "<style scoped>\n",
       "    .dataframe tbody tr th:only-of-type {\n",
       "        vertical-align: middle;\n",
       "    }\n",
       "\n",
       "    .dataframe tbody tr th {\n",
       "        vertical-align: top;\n",
       "    }\n",
       "\n",
       "    .dataframe thead th {\n",
       "        text-align: right;\n",
       "    }\n",
       "</style>\n",
       "<table border=\"1\" class=\"dataframe\">\n",
       "  <thead>\n",
       "    <tr style=\"text-align: right;\">\n",
       "      <th></th>\n",
       "      <th>AQI</th>\n",
       "    </tr>\n",
       "    <tr>\n",
       "      <th>Date</th>\n",
       "      <th></th>\n",
       "    </tr>\n",
       "  </thead>\n",
       "  <tbody>\n",
       "    <tr>\n",
       "      <th>2015-01-01</th>\n",
       "      <td>472.0</td>\n",
       "    </tr>\n",
       "    <tr>\n",
       "      <th>2015-02-01</th>\n",
       "      <td>454.0</td>\n",
       "    </tr>\n",
       "    <tr>\n",
       "      <th>2015-03-01</th>\n",
       "      <td>143.0</td>\n",
       "    </tr>\n",
       "    <tr>\n",
       "      <th>2015-04-01</th>\n",
       "      <td>319.0</td>\n",
       "    </tr>\n",
       "    <tr>\n",
       "      <th>2015-05-01</th>\n",
       "      <td>325.0</td>\n",
       "    </tr>\n",
       "    <tr>\n",
       "      <th>...</th>\n",
       "      <td>...</td>\n",
       "    </tr>\n",
       "    <tr>\n",
       "      <th>2020-06-27</th>\n",
       "      <td>112.0</td>\n",
       "    </tr>\n",
       "    <tr>\n",
       "      <th>2020-06-28</th>\n",
       "      <td>196.0</td>\n",
       "    </tr>\n",
       "    <tr>\n",
       "      <th>2020-06-29</th>\n",
       "      <td>233.0</td>\n",
       "    </tr>\n",
       "    <tr>\n",
       "      <th>2020-06-30</th>\n",
       "      <td>114.0</td>\n",
       "    </tr>\n",
       "    <tr>\n",
       "      <th>2020-01-07</th>\n",
       "      <td>101.0</td>\n",
       "    </tr>\n",
       "  </tbody>\n",
       "</table>\n",
       "<p>2009 rows × 1 columns</p>\n",
       "</div>"
      ],
      "text/plain": [
       "              AQI\n",
       "Date             \n",
       "2015-01-01  472.0\n",
       "2015-02-01  454.0\n",
       "2015-03-01  143.0\n",
       "2015-04-01  319.0\n",
       "2015-05-01  325.0\n",
       "...           ...\n",
       "2020-06-27  112.0\n",
       "2020-06-28  196.0\n",
       "2020-06-29  233.0\n",
       "2020-06-30  114.0\n",
       "2020-01-07  101.0\n",
       "\n",
       "[2009 rows x 1 columns]"
      ]
     },
     "execution_count": 8,
     "metadata": {},
     "output_type": "execute_result"
    }
   ],
   "source": [
    "delhi"
   ]
  },
  {
   "cell_type": "code",
   "execution_count": 9,
   "id": "d7384022",
   "metadata": {},
   "outputs": [],
   "source": [
    "delhi['AQI'].fillna(method = 'bfill',inplace = True)\n"
   ]
  },
  {
   "cell_type": "code",
   "execution_count": 10,
   "id": "1444232a",
   "metadata": {},
   "outputs": [],
   "source": [
    "delhi=delhi.astype('float64')\n",
    "delhi=delhi.resample(rule='MS').mean()"
   ]
  },
  {
   "cell_type": "code",
   "execution_count": 11,
   "id": "c276ce87",
   "metadata": {},
   "outputs": [
    {
     "data": {
      "image/png": "[encoded data removed]",
      "text/plain": [
       "<Figure size 864x576 with 1 Axes>"
      ]
     },
     "metadata": {
      "needs_background": "light"
     },
     "output_type": "display_data"
    }
   ],
   "source": [
    "ax=delhi[['AQI']].plot(figsize=(12,8),grid=True,lw=2,color='Red')\n",
    "ax.autoscale(enable=True, axis='both', tight=True)"
   ]
  },
  {
   "cell_type": "code",
   "execution_count": 12,
   "id": "5cf3c8e3",
   "metadata": {},
   "outputs": [],
   "source": [
    "from statsmodels.tsa.seasonal import seasonal_decompose\n",
    "from sklearn.metrics import mean_squared_error"
   ]
  },
  {
   "cell_type": "code",
   "execution_count": 13,
   "id": "aaa643d8",
   "metadata": {},
   "outputs": [
    {
     "data": {
      "image/png": "[encoded data removed]",
      "text/plain": [
       "<Figure size 432x288 with 4 Axes>"
      ]
     },
     "metadata": {
      "needs_background": "light"
     },
     "output_type": "display_data"
    }
   ],
   "source": [
    "delhi_AQI=delhi['AQI']\n",
    "result=seasonal_decompose(delhi_AQI,model='multiplicative')\n",
    "result.plot();"
   ]
  },
  {
   "cell_type": "code",
   "execution_count": 14,
   "id": "2879e8e0",
   "metadata": {},
   "outputs": [],
   "source": [
    "#Hourly data splitted into testing and training\n",
    "train=delhi[:48]\n",
    "test=delhi[48:61]"
   ]
  },
  {
   "cell_type": "code",
   "execution_count": 15,
   "id": "142827d1",
   "metadata": {},
   "outputs": [
    {
     "data": {
      "text/plain": [
       "pandas.core.frame.DataFrame"
      ]
     },
     "execution_count": 15,
     "metadata": {},
     "output_type": "execute_result"
    }
   ],
   "source": [
    "type(train)"
   ]
  },
  {
   "cell_type": "code",
   "execution_count": 16,
   "id": "d51d75b0",
   "metadata": {},
   "outputs": [
    {
     "name": "stdout",
     "output_type": "stream",
     "text": [
      "Shape of train data:(48, 1)\n",
      "Shape of test data:(13, 1)\n"
     ]
    }
   ],
   "source": [
    "print(\"Shape of train data:\" + str(train.shape))\n",
    "print(\"Shape of test data:\" + str(test.shape))"
   ]
  },
  {
   "cell_type": "code",
   "execution_count": 17,
   "id": "74ce95da",
   "metadata": {},
   "outputs": [],
   "source": [
    "train_arr = train\n",
    "test_arr = test"
   ]
  },
  {
   "cell_type": "code",
   "execution_count": 18,
   "id": "24116970",
   "metadata": {},
   "outputs": [
    {
     "data": {
      "text/html": [
       "<div>\n",
       "<style scoped>\n",
       "    .dataframe tbody tr th:only-of-type {\n",
       "        vertical-align: middle;\n",
       "    }\n",
       "\n",
       "    .dataframe tbody tr th {\n",
       "        vertical-align: top;\n",
       "    }\n",
       "\n",
       "    .dataframe thead th {\n",
       "        text-align: right;\n",
       "    }\n",
       "</style>\n",
       "<table border=\"1\" class=\"dataframe\">\n",
       "  <thead>\n",
       "    <tr style=\"text-align: right;\">\n",
       "      <th></th>\n",
       "      <th>AQI</th>\n",
       "    </tr>\n",
       "    <tr>\n",
       "      <th>Date</th>\n",
       "      <th></th>\n",
       "    </tr>\n",
       "  </thead>\n",
       "  <tbody>\n",
       "    <tr>\n",
       "      <th>2015-01-01</th>\n",
       "      <td>322.290323</td>\n",
       "    </tr>\n",
       "    <tr>\n",
       "      <th>2015-02-01</th>\n",
       "      <td>323.571429</td>\n",
       "    </tr>\n",
       "    <tr>\n",
       "      <th>2015-03-01</th>\n",
       "      <td>270.258065</td>\n",
       "    </tr>\n",
       "    <tr>\n",
       "      <th>2015-04-01</th>\n",
       "      <td>315.066667</td>\n",
       "    </tr>\n",
       "    <tr>\n",
       "      <th>2015-05-01</th>\n",
       "      <td>328.741935</td>\n",
       "    </tr>\n",
       "    <tr>\n",
       "      <th>2015-06-01</th>\n",
       "      <td>264.000000</td>\n",
       "    </tr>\n",
       "    <tr>\n",
       "      <th>2015-07-01</th>\n",
       "      <td>234.838710</td>\n",
       "    </tr>\n",
       "    <tr>\n",
       "      <th>2015-08-01</th>\n",
       "      <td>252.483871</td>\n",
       "    </tr>\n",
       "    <tr>\n",
       "      <th>2015-09-01</th>\n",
       "      <td>254.233333</td>\n",
       "    </tr>\n",
       "    <tr>\n",
       "      <th>2015-10-01</th>\n",
       "      <td>315.161290</td>\n",
       "    </tr>\n",
       "    <tr>\n",
       "      <th>2015-11-01</th>\n",
       "      <td>368.866667</td>\n",
       "    </tr>\n",
       "    <tr>\n",
       "      <th>2015-12-01</th>\n",
       "      <td>317.806452</td>\n",
       "    </tr>\n",
       "    <tr>\n",
       "      <th>2016-01-01</th>\n",
       "      <td>379.290323</td>\n",
       "    </tr>\n",
       "    <tr>\n",
       "      <th>2016-02-01</th>\n",
       "      <td>303.206897</td>\n",
       "    </tr>\n",
       "    <tr>\n",
       "      <th>2016-03-01</th>\n",
       "      <td>255.741935</td>\n",
       "    </tr>\n",
       "    <tr>\n",
       "      <th>2016-04-01</th>\n",
       "      <td>310.366667</td>\n",
       "    </tr>\n",
       "    <tr>\n",
       "      <th>2016-05-01</th>\n",
       "      <td>291.548387</td>\n",
       "    </tr>\n",
       "    <tr>\n",
       "      <th>2016-06-01</th>\n",
       "      <td>261.266667</td>\n",
       "    </tr>\n",
       "    <tr>\n",
       "      <th>2016-07-01</th>\n",
       "      <td>232.419355</td>\n",
       "    </tr>\n",
       "    <tr>\n",
       "      <th>2016-08-01</th>\n",
       "      <td>217.096774</td>\n",
       "    </tr>\n",
       "    <tr>\n",
       "      <th>2016-09-01</th>\n",
       "      <td>245.366667</td>\n",
       "    </tr>\n",
       "    <tr>\n",
       "      <th>2016-10-01</th>\n",
       "      <td>395.322581</td>\n",
       "    </tr>\n",
       "    <tr>\n",
       "      <th>2016-11-01</th>\n",
       "      <td>364.733333</td>\n",
       "    </tr>\n",
       "    <tr>\n",
       "      <th>2016-12-01</th>\n",
       "      <td>356.000000</td>\n",
       "    </tr>\n",
       "    <tr>\n",
       "      <th>2017-01-01</th>\n",
       "      <td>309.774194</td>\n",
       "    </tr>\n",
       "    <tr>\n",
       "      <th>2017-02-01</th>\n",
       "      <td>305.107143</td>\n",
       "    </tr>\n",
       "    <tr>\n",
       "      <th>2017-03-01</th>\n",
       "      <td>292.806452</td>\n",
       "    </tr>\n",
       "    <tr>\n",
       "      <th>2017-04-01</th>\n",
       "      <td>300.266667</td>\n",
       "    </tr>\n",
       "    <tr>\n",
       "      <th>2017-05-01</th>\n",
       "      <td>276.322581</td>\n",
       "    </tr>\n",
       "    <tr>\n",
       "      <th>2017-06-01</th>\n",
       "      <td>160.533333</td>\n",
       "    </tr>\n",
       "    <tr>\n",
       "      <th>2017-07-01</th>\n",
       "      <td>134.645161</td>\n",
       "    </tr>\n",
       "    <tr>\n",
       "      <th>2017-08-01</th>\n",
       "      <td>144.806452</td>\n",
       "    </tr>\n",
       "    <tr>\n",
       "      <th>2017-09-01</th>\n",
       "      <td>182.600000</td>\n",
       "    </tr>\n",
       "    <tr>\n",
       "      <th>2017-10-01</th>\n",
       "      <td>307.258065</td>\n",
       "    </tr>\n",
       "    <tr>\n",
       "      <th>2017-11-01</th>\n",
       "      <td>310.933333</td>\n",
       "    </tr>\n",
       "    <tr>\n",
       "      <th>2017-12-01</th>\n",
       "      <td>304.032258</td>\n",
       "    </tr>\n",
       "    <tr>\n",
       "      <th>2018-01-01</th>\n",
       "      <td>297.387097</td>\n",
       "    </tr>\n",
       "    <tr>\n",
       "      <th>2018-02-01</th>\n",
       "      <td>261.142857</td>\n",
       "    </tr>\n",
       "    <tr>\n",
       "      <th>2018-03-01</th>\n",
       "      <td>234.451613</td>\n",
       "    </tr>\n",
       "    <tr>\n",
       "      <th>2018-04-01</th>\n",
       "      <td>254.233333</td>\n",
       "    </tr>\n",
       "    <tr>\n",
       "      <th>2018-05-01</th>\n",
       "      <td>251.064516</td>\n",
       "    </tr>\n",
       "    <tr>\n",
       "      <th>2018-06-01</th>\n",
       "      <td>255.866667</td>\n",
       "    </tr>\n",
       "    <tr>\n",
       "      <th>2018-07-01</th>\n",
       "      <td>147.870968</td>\n",
       "    </tr>\n",
       "    <tr>\n",
       "      <th>2018-08-01</th>\n",
       "      <td>157.193548</td>\n",
       "    </tr>\n",
       "    <tr>\n",
       "      <th>2018-09-01</th>\n",
       "      <td>179.666667</td>\n",
       "    </tr>\n",
       "    <tr>\n",
       "      <th>2018-10-01</th>\n",
       "      <td>304.387097</td>\n",
       "    </tr>\n",
       "    <tr>\n",
       "      <th>2018-11-01</th>\n",
       "      <td>304.466667</td>\n",
       "    </tr>\n",
       "    <tr>\n",
       "      <th>2018-12-01</th>\n",
       "      <td>343.258065</td>\n",
       "    </tr>\n",
       "  </tbody>\n",
       "</table>\n",
       "</div>"
      ],
      "text/plain": [
       "                   AQI\n",
       "Date                  \n",
       "2015-01-01  322.290323\n",
       "2015-02-01  323.571429\n",
       "2015-03-01  270.258065\n",
       "2015-04-01  315.066667\n",
       "2015-05-01  328.741935\n",
       "2015-06-01  264.000000\n",
       "2015-07-01  234.838710\n",
       "2015-08-01  252.483871\n",
       "2015-09-01  254.233333\n",
       "2015-10-01  315.161290\n",
       "2015-11-01  368.866667\n",
       "2015-12-01  317.806452\n",
       "2016-01-01  379.290323\n",
       "2016-02-01  303.206897\n",
       "2016-03-01  255.741935\n",
       "2016-04-01  310.366667\n",
       "2016-05-01  291.548387\n",
       "2016-06-01  261.266667\n",
       "2016-07-01  232.419355\n",
       "2016-08-01  217.096774\n",
       "2016-09-01  245.366667\n",
       "2016-10-01  395.322581\n",
       "2016-11-01  364.733333\n",
       "2016-12-01  356.000000\n",
       "2017-01-01  309.774194\n",
       "2017-02-01  305.107143\n",
       "2017-03-01  292.806452\n",
       "2017-04-01  300.266667\n",
       "2017-05-01  276.322581\n",
       "2017-06-01  160.533333\n",
       "2017-07-01  134.645161\n",
       "2017-08-01  144.806452\n",
       "2017-09-01  182.600000\n",
       "2017-10-01  307.258065\n",
       "2017-11-01  310.933333\n",
       "2017-12-01  304.032258\n",
       "2018-01-01  297.387097\n",
       "2018-02-01  261.142857\n",
       "2018-03-01  234.451613\n",
       "2018-04-01  254.233333\n",
       "2018-05-01  251.064516\n",
       "2018-06-01  255.866667\n",
       "2018-07-01  147.870968\n",
       "2018-08-01  157.193548\n",
       "2018-09-01  179.666667\n",
       "2018-10-01  304.387097\n",
       "2018-11-01  304.466667\n",
       "2018-12-01  343.258065"
      ]
     },
     "execution_count": 18,
     "metadata": {},
     "output_type": "execute_result"
    }
   ],
   "source": [
    "train_arr"
   ]
  },
  {
   "cell_type": "code",
   "execution_count": 19,
   "id": "56739175",
   "metadata": {},
   "outputs": [
    {
     "data": {
      "text/html": [
       "<style>#sk-container-id-1 {color: black;background-color: white;}#sk-container-id-1 pre{padding: 0;}#sk-container-id-1 div.sk-toggleable {background-color: white;}#sk-container-id-1 label.sk-toggleable__label {cursor: pointer;display: block;width: 100%;margin-bottom: 0;padding: 0.3em;box-sizing: border-box;text-align: center;}#sk-container-id-1 label.sk-toggleable__label-arrow:before {content: \"▸\";float: left;margin-right: 0.25em;color: #696969;}#sk-container-id-1 label.sk-toggleable__label-arrow:hover:before {color: black;}#sk-container-id-1 div.sk-estimator:hover label.sk-toggleable__label-arrow:before {color: black;}#sk-container-id-1 div.sk-toggleable__content {max-height: 0;max-width: 0;overflow: hidden;text-align: left;background-color: #f0f8ff;}#sk-container-id-1 div.sk-toggleable__content pre {margin: 0.2em;color: black;border-radius: 0.25em;background-color: #f0f8ff;}#sk-container-id-1 input.sk-toggleable__control:checked~div.sk-toggleable__content {max-height: 200px;max-width: 100%;overflow: auto;}#sk-container-id-1 input.sk-toggleable__control:checked~label.sk-toggleable__label-arrow:before {content: \"▾\";}#sk-container-id-1 div.sk-estimator input.sk-toggleable__control:checked~label.sk-toggleable__label {background-color: #d4ebff;}#sk-container-id-1 div.sk-label input.sk-toggleable__control:checked~label.sk-toggleable__label {background-color: #d4ebff;}#sk-container-id-1 input.sk-hidden--visually {border: 0;clip: rect(1px 1px 1px 1px);clip: rect(1px, 1px, 1px, 1px);height: 1px;margin: -1px;overflow: hidden;padding: 0;position: absolute;width: 1px;}#sk-container-id-1 div.sk-estimator {font-family: monospace;background-color: #f0f8ff;border: 1px dotted black;border-radius: 0.25em;box-sizing: border-box;margin-bottom: 0.5em;}#sk-container-id-1 div.sk-estimator:hover {background-color: #d4ebff;}#sk-container-id-1 div.sk-parallel-item::after {content: \"\";width: 100%;border-bottom: 1px solid gray;flex-grow: 1;}#sk-container-id-1 div.sk-label:hover label.sk-toggleable__label {background-color: #d4ebff;}#sk-container-id-1 div.sk-serial::before {content: \"\";position: absolute;border-left: 1px solid gray;box-sizing: border-box;top: 0;bottom: 0;left: 50%;z-index: 0;}#sk-container-id-1 div.sk-serial {display: flex;flex-direction: column;align-items: center;background-color: white;padding-right: 0.2em;padding-left: 0.2em;position: relative;}#sk-container-id-1 div.sk-item {position: relative;z-index: 1;}#sk-container-id-1 div.sk-parallel {display: flex;align-items: stretch;justify-content: center;background-color: white;position: relative;}#sk-container-id-1 div.sk-item::before, #sk-container-id-1 div.sk-parallel-item::before {content: \"\";position: absolute;border-left: 1px solid gray;box-sizing: border-box;top: 0;bottom: 0;left: 50%;z-index: -1;}#sk-container-id-1 div.sk-parallel-item {display: flex;flex-direction: column;z-index: 1;position: relative;background-color: white;}#sk-container-id-1 div.sk-parallel-item:first-child::after {align-self: flex-end;width: 50%;}#sk-container-id-1 div.sk-parallel-item:last-child::after {align-self: flex-start;width: 50%;}#sk-container-id-1 div.sk-parallel-item:only-child::after {width: 0;}#sk-container-id-1 div.sk-dashed-wrapped {border: 1px dashed gray;margin: 0 0.4em 0.5em 0.4em;box-sizing: border-box;padding-bottom: 0.4em;background-color: white;}#sk-container-id-1 div.sk-label label {font-family: monospace;font-weight: bold;display: inline-block;line-height: 1.2em;}#sk-container-id-1 div.sk-label-container {text-align: center;}#sk-container-id-1 div.sk-container {/* jupyter's `normalize.less` sets `[hidden] { display: none; }` but bootstrap.min.css set `[hidden] { display: none !important; }` so we also need the `!important` here to be able to override the default hidden behavior on the sphinx rendered scikit-learn.org. See: https://github.com/scikit-learn/scikit-learn/issues/21755 */display: inline-block !important;position: relative;}#sk-container-id-1 div.sk-text-repr-fallback {display: none;}</style><div id=\"sk-container-id-1\" class=\"sk-top-container\"><div class=\"sk-text-repr-fallback\"><pre>MinMaxScaler()</pre><b>In a Jupyter environment, please rerun this cell to show the HTML representation or trust the notebook. <br />On GitHub, the HTML representation is unable to render, please try loading this page with nbviewer.org.</b></div><div class=\"sk-container\" hidden><div class=\"sk-item\"><div class=\"sk-estimator sk-toggleable\"><input class=\"sk-toggleable__control sk-hidden--visually\" id=\"sk-estimator-id-1\" type=\"checkbox\" checked><label for=\"sk-estimator-id-1\" class=\"sk-toggleable__label sk-toggleable__label-arrow\">MinMaxScaler</label><div class=\"sk-toggleable__content\"><pre>MinMaxScaler()</pre></div></div></div></div></div>"
      ],
      "text/plain": [
       "MinMaxScaler()"
      ]
     },
     "execution_count": 19,
     "metadata": {},
     "output_type": "execute_result"
    }
   ],
   "source": [
    "from sklearn.preprocessing import MinMaxScaler\n",
    "scaler = MinMaxScaler()\n",
    "\n",
    "scaler.fit(train_arr)"
   ]
  },
  {
   "cell_type": "code",
   "execution_count": 20,
   "id": "9017e85c",
   "metadata": {},
   "outputs": [],
   "source": [
    "scaled_train = scaler.transform(train_arr)\n",
    "scaled_test = scaler.transform(test_arr)"
   ]
  },
  {
   "cell_type": "code",
   "execution_count": 21,
   "id": "3d84f5a6",
   "metadata": {},
   "outputs": [],
   "source": [
    "from keras.preprocessing.sequence import TimeseriesGenerator\n",
    "n_input = 12\n",
    "n_features = 1\n",
    "generator = TimeseriesGenerator(scaled_train, scaled_train, length=n_input, batch_size=1)"
   ]
  },
  {
   "cell_type": "code",
   "execution_count": 22,
   "id": "b1428b19",
   "metadata": {},
   "outputs": [
    {
     "name": "stdout",
     "output_type": "stream",
     "text": [
      "Given the Array: \n",
      "[0.71983665 0.72475118 0.52023264 0.69212556 0.74458607 0.49622571\n",
      " 0.38435837 0.45204801 0.45875923 0.69248855 0.89851091 0.70263581]\n",
      "Predict this y: \n",
      " [[0.93849771]]\n"
     ]
    }
   ],
   "source": [
    "X,y = generator[0]\n",
    "print(f'Given the Array: \\n{X.flatten()}')\n",
    "print(f'Predict this y: \\n {y}')"
   ]
  },
  {
   "cell_type": "code",
   "execution_count": 23,
   "id": "7e7f7435",
   "metadata": {},
   "outputs": [],
   "source": [
    "from keras.models import Sequential\n",
    "from keras.layers import Dense\n",
    "from keras.layers import LSTM\n",
    "from keras.layers import Dropout\n",
    "from keras.optimizers import Adam"
   ]
  },
  {
   "cell_type": "code",
   "execution_count": 24,
   "id": "1c8d7f55",
   "metadata": {},
   "outputs": [
    {
     "name": "stdout",
     "output_type": "stream",
     "text": [
      "Model: \"LSTM-Model\"\n",
      "_________________________________________________________________\n",
      " Layer (type)                Output Shape              Param #   \n",
      "=================================================================\n",
      " LSTM_1 (LSTM)               (None, 12, 32)            4352      \n",
      "                                                                 \n",
      " LSTM_2 (LSTM)               (None, 32)                8320      \n",
      "                                                                 \n",
      " DENSE_1 (Dense)             (None, 1)                 33        \n",
      "                                                                 \n",
      "=================================================================\n",
      "Total params: 12,705\n",
      "Trainable params: 12,705\n",
      "Non-trainable params: 0\n",
      "_________________________________________________________________\n"
     ]
    }
   ],
   "source": [
    "model = Sequential(name = 'LSTM-Model')\n",
    "model.add(LSTM(32, activation='relu', return_sequences = True, input_shape=(n_input, n_features),name = \"LSTM_1\"))\n",
    "#model.add(LSTM(100, activation='relu', return_sequences = True,name = \"LSTM_2\"))\n",
    "#model.add(Dropout(0.2))\n",
    "model.add(LSTM(32, activation='relu',name = \"LSTM_2\"))\n",
    "#model.add(Dropout(0.2))\n",
    "#model.add(Dense(8))\n",
    "model.add(Dense(1,name = \"DENSE_1\"))\n",
    "model.compile(optimizer= 'adam',  loss='mse')\n",
    "\n",
    "model.summary()"
   ]
  },
  {
   "cell_type": "code",
   "execution_count": 25,
   "id": "feaaf838",
   "metadata": {},
   "outputs": [
    {
     "name": "stdout",
     "output_type": "stream",
     "text": [
      "You must install pydot (`pip install pydot`) and install graphviz (see instructions at https://graphviz.gitlab.io/download/) for plot_model to work.\n"
     ]
    }
   ],
   "source": [
    "#Plotting the layer structure\n",
    "from keras.utils import plot_model\n",
    "plot_model(model,show_shapes=True,show_layer_names=True,rankdir=\"TB\",dpi=96)"
   ]
  },
  {
   "cell_type": "code",
   "execution_count": 26,
   "id": "2fd31dee",
   "metadata": {},
   "outputs": [
    {
     "name": "stdout",
     "output_type": "stream",
     "text": [
      "Epoch 1/200\n",
      "36/36 [==============================] - 7s 22ms/step - loss: 0.1917\n",
      "Epoch 2/200\n",
      "36/36 [==============================] - 1s 21ms/step - loss: 0.0801\n",
      "Epoch 3/200\n",
      "36/36 [==============================] - 1s 20ms/step - loss: 0.0726\n",
      "Epoch 4/200\n",
      "36/36 [==============================] - 1s 20ms/step - loss: 0.0723\n",
      "Epoch 5/200\n",
      "36/36 [==============================] - 1s 20ms/step - loss: 0.0686\n",
      "Epoch 6/200\n",
      "36/36 [==============================] - 1s 20ms/step - loss: 0.0807\n",
      "Epoch 7/200\n",
      "36/36 [==============================] - 1s 20ms/step - loss: 0.0727\n",
      "Epoch 8/200\n",
      "36/36 [==============================] - 1s 20ms/step - loss: 0.0693\n",
      "Epoch 9/200\n",
      "36/36 [==============================] - 1s 20ms/step - loss: 0.0703\n",
      "Epoch 10/200\n",
      "36/36 [==============================] - 1s 20ms/step - loss: 0.0759\n",
      "Epoch 11/200\n",
      "36/36 [==============================] - 1s 20ms/step - loss: 0.0695\n",
      "Epoch 12/200\n",
      "36/36 [==============================] - 1s 20ms/step - loss: 0.0711\n",
      "Epoch 13/200\n",
      "36/36 [==============================] - 1s 20ms/step - loss: 0.0645\n",
      "Epoch 14/200\n",
      "36/36 [==============================] - 1s 20ms/step - loss: 0.0668\n",
      "Epoch 15/200\n",
      "36/36 [==============================] - 1s 20ms/step - loss: 0.0639\n",
      "Epoch 16/200\n",
      "36/36 [==============================] - 1s 20ms/step - loss: 0.0689\n",
      "Epoch 17/200\n",
      "36/36 [==============================] - 1s 20ms/step - loss: 0.0612\n",
      "Epoch 18/200\n",
      "36/36 [==============================] - 1s 21ms/step - loss: 0.0616\n",
      "Epoch 19/200\n",
      "36/36 [==============================] - 1s 20ms/step - loss: 0.0588\n",
      "Epoch 20/200\n",
      "36/36 [==============================] - 1s 20ms/step - loss: 0.0576\n",
      "Epoch 21/200\n",
      "36/36 [==============================] - 1s 20ms/step - loss: 0.0550\n",
      "Epoch 22/200\n",
      "36/36 [==============================] - 1s 20ms/step - loss: 0.0565\n",
      "Epoch 23/200\n",
      "36/36 [==============================] - 1s 20ms/step - loss: 0.0459\n",
      "Epoch 24/200\n",
      "36/36 [==============================] - 1s 16ms/step - loss: 0.0445\n",
      "Epoch 25/200\n",
      "36/36 [==============================] - 0s 8ms/step - loss: 0.0424\n",
      "Epoch 26/200\n",
      "36/36 [==============================] - 1s 14ms/step - loss: 0.0518\n",
      "Epoch 27/200\n",
      "36/36 [==============================] - 0s 13ms/step - loss: 0.0443\n",
      "Epoch 28/200\n",
      "36/36 [==============================] - 0s 9ms/step - loss: 0.0399\n",
      "Epoch 29/200\n",
      "36/36 [==============================] - 0s 8ms/step - loss: 0.0494\n",
      "Epoch 30/200\n",
      "36/36 [==============================] - 0s 8ms/step - loss: 0.0409\n",
      "Epoch 31/200\n",
      "36/36 [==============================] - 0s 10ms/step - loss: 0.0426\n",
      "Epoch 32/200\n",
      "36/36 [==============================] - 0s 11ms/step - loss: 0.0411\n",
      "Epoch 33/200\n",
      "36/36 [==============================] - 0s 8ms/step - loss: 0.0439\n",
      "Epoch 34/200\n",
      "36/36 [==============================] - 0s 8ms/step - loss: 0.0338\n",
      "Epoch 35/200\n",
      "36/36 [==============================] - 0s 9ms/step - loss: 0.0340\n",
      "Epoch 36/200\n",
      "36/36 [==============================] - 0s 9ms/step - loss: 0.0440\n",
      "Epoch 37/200\n",
      "36/36 [==============================] - 0s 9ms/step - loss: 0.0340\n",
      "Epoch 38/200\n",
      "36/36 [==============================] - 0s 8ms/step - loss: 0.0340\n",
      "Epoch 39/200\n",
      "36/36 [==============================] - 0s 9ms/step - loss: 0.0344\n",
      "Epoch 40/200\n",
      "36/36 [==============================] - 0s 9ms/step - loss: 0.0338\n",
      "Epoch 41/200\n",
      "36/36 [==============================] - 0s 9ms/step - loss: 0.0357\n",
      "Epoch 42/200\n",
      "36/36 [==============================] - 0s 9ms/step - loss: 0.0337\n",
      "Epoch 43/200\n",
      "36/36 [==============================] - 0s 9ms/step - loss: 0.0336\n",
      "Epoch 44/200\n",
      "36/36 [==============================] - 0s 8ms/step - loss: 0.0349\n",
      "Epoch 45/200\n",
      "36/36 [==============================] - 0s 8ms/step - loss: 0.0383\n",
      "Epoch 46/200\n",
      "36/36 [==============================] - 0s 7ms/step - loss: 0.0320\n",
      "Epoch 47/200\n",
      "36/36 [==============================] - 0s 7ms/step - loss: 0.0348\n",
      "Epoch 48/200\n",
      "36/36 [==============================] - 0s 7ms/step - loss: 0.0319\n",
      "Epoch 49/200\n",
      "36/36 [==============================] - 0s 8ms/step - loss: 0.0399\n",
      "Epoch 50/200\n",
      "36/36 [==============================] - 0s 7ms/step - loss: 0.0320\n",
      "Epoch 51/200\n",
      "36/36 [==============================] - 0s 7ms/step - loss: 0.0354\n",
      "Epoch 52/200\n",
      "36/36 [==============================] - 0s 7ms/step - loss: 0.0341\n",
      "Epoch 53/200\n",
      "36/36 [==============================] - 0s 7ms/step - loss: 0.0304\n",
      "Epoch 54/200\n",
      "36/36 [==============================] - 0s 9ms/step - loss: 0.0313\n",
      "Epoch 55/200\n",
      "36/36 [==============================] - 0s 8ms/step - loss: 0.0261\n",
      "Epoch 56/200\n",
      "36/36 [==============================] - 0s 8ms/step - loss: 0.0292\n",
      "Epoch 57/200\n",
      "36/36 [==============================] - 0s 8ms/step - loss: 0.0267\n",
      "Epoch 58/200\n",
      "36/36 [==============================] - 0s 7ms/step - loss: 0.0270\n",
      "Epoch 59/200\n",
      "36/36 [==============================] - 0s 8ms/step - loss: 0.0281\n",
      "Epoch 60/200\n",
      "36/36 [==============================] - 0s 8ms/step - loss: 0.0253\n",
      "Epoch 61/200\n",
      "36/36 [==============================] - 0s 7ms/step - loss: 0.0286\n",
      "Epoch 62/200\n",
      "36/36 [==============================] - 0s 8ms/step - loss: 0.0260\n",
      "Epoch 63/200\n",
      "36/36 [==============================] - 0s 8ms/step - loss: 0.0231\n",
      "Epoch 64/200\n",
      "36/36 [==============================] - 0s 8ms/step - loss: 0.0329\n",
      "Epoch 65/200\n",
      "36/36 [==============================] - 0s 8ms/step - loss: 0.0240\n",
      "Epoch 66/200\n",
      "36/36 [==============================] - 0s 8ms/step - loss: 0.0218\n",
      "Epoch 67/200\n",
      "36/36 [==============================] - 0s 8ms/step - loss: 0.0211\n",
      "Epoch 68/200\n",
      "36/36 [==============================] - 0s 8ms/step - loss: 0.0186\n",
      "Epoch 69/200\n",
      "36/36 [==============================] - 0s 8ms/step - loss: 0.0433\n",
      "Epoch 70/200\n",
      "36/36 [==============================] - 0s 8ms/step - loss: 0.0369\n",
      "Epoch 71/200\n",
      "36/36 [==============================] - 0s 7ms/step - loss: 0.0272\n",
      "Epoch 72/200\n",
      "36/36 [==============================] - 0s 7ms/step - loss: 0.0227\n",
      "Epoch 73/200\n",
      "36/36 [==============================] - 0s 7ms/step - loss: 0.0181\n",
      "Epoch 74/200\n",
      "36/36 [==============================] - 0s 8ms/step - loss: 0.0191\n",
      "Epoch 75/200\n",
      "36/36 [==============================] - 0s 7ms/step - loss: 0.0205\n",
      "Epoch 76/200\n",
      "36/36 [==============================] - 0s 7ms/step - loss: 0.0188\n",
      "Epoch 77/200\n",
      "36/36 [==============================] - 0s 7ms/step - loss: 0.0180\n",
      "Epoch 78/200\n",
      "36/36 [==============================] - 0s 8ms/step - loss: 0.0206\n",
      "Epoch 79/200\n",
      "36/36 [==============================] - 0s 8ms/step - loss: 0.0198\n",
      "Epoch 80/200\n",
      "36/36 [==============================] - 0s 8ms/step - loss: 0.0179\n",
      "Epoch 81/200\n",
      "36/36 [==============================] - 0s 8ms/step - loss: 0.0174\n",
      "Epoch 82/200\n",
      "36/36 [==============================] - 0s 8ms/step - loss: 0.0183\n",
      "Epoch 83/200\n",
      "36/36 [==============================] - 0s 8ms/step - loss: 0.0195\n",
      "Epoch 84/200\n",
      "36/36 [==============================] - 0s 7ms/step - loss: 0.0177\n",
      "Epoch 85/200\n",
      "36/36 [==============================] - 0s 8ms/step - loss: 0.0172\n",
      "Epoch 86/200\n",
      "36/36 [==============================] - 0s 7ms/step - loss: 0.0199\n",
      "Epoch 87/200\n",
      "36/36 [==============================] - 0s 8ms/step - loss: 0.0157\n",
      "Epoch 88/200\n",
      "36/36 [==============================] - 0s 7ms/step - loss: 0.0232\n",
      "Epoch 89/200\n",
      "36/36 [==============================] - 0s 8ms/step - loss: 0.0148\n",
      "Epoch 90/200\n",
      "36/36 [==============================] - 0s 8ms/step - loss: 0.0170\n",
      "Epoch 91/200\n",
      "36/36 [==============================] - 0s 7ms/step - loss: 0.0158\n",
      "Epoch 92/200\n",
      "36/36 [==============================] - 0s 8ms/step - loss: 0.0146\n",
      "Epoch 93/200\n",
      "36/36 [==============================] - 0s 7ms/step - loss: 0.0224\n",
      "Epoch 94/200\n",
      "36/36 [==============================] - 0s 8ms/step - loss: 0.0149\n",
      "Epoch 95/200\n",
      "36/36 [==============================] - 0s 8ms/step - loss: 0.0152\n",
      "Epoch 96/200\n",
      "36/36 [==============================] - 0s 7ms/step - loss: 0.0144\n",
      "Epoch 97/200\n",
      "36/36 [==============================] - 0s 8ms/step - loss: 0.0160\n",
      "Epoch 98/200\n",
      "36/36 [==============================] - 0s 7ms/step - loss: 0.0150\n",
      "Epoch 99/200\n",
      "36/36 [==============================] - 0s 7ms/step - loss: 0.0131\n",
      "Epoch 100/200\n",
      "36/36 [==============================] - 0s 7ms/step - loss: 0.0149\n",
      "Epoch 101/200\n"
     ]
    },
    {
     "name": "stdout",
     "output_type": "stream",
     "text": [
      "36/36 [==============================] - 0s 7ms/step - loss: 0.0138\n",
      "Epoch 102/200\n",
      "36/36 [==============================] - 0s 7ms/step - loss: 0.0139\n",
      "Epoch 103/200\n",
      "36/36 [==============================] - 0s 7ms/step - loss: 0.0171\n",
      "Epoch 104/200\n",
      "36/36 [==============================] - 0s 7ms/step - loss: 0.0138\n",
      "Epoch 105/200\n",
      "36/36 [==============================] - 0s 8ms/step - loss: 0.0136\n",
      "Epoch 106/200\n",
      "36/36 [==============================] - 0s 7ms/step - loss: 0.0129\n",
      "Epoch 107/200\n",
      "36/36 [==============================] - 0s 7ms/step - loss: 0.0136\n",
      "Epoch 108/200\n",
      "36/36 [==============================] - 0s 7ms/step - loss: 0.0155\n",
      "Epoch 109/200\n",
      "36/36 [==============================] - 0s 7ms/step - loss: 0.0132\n",
      "Epoch 110/200\n",
      "36/36 [==============================] - 0s 7ms/step - loss: 0.0127\n",
      "Epoch 111/200\n",
      "36/36 [==============================] - 0s 8ms/step - loss: 0.0130\n",
      "Epoch 112/200\n",
      "36/36 [==============================] - 0s 7ms/step - loss: 0.0120\n",
      "Epoch 113/200\n",
      "36/36 [==============================] - 0s 7ms/step - loss: 0.0136\n",
      "Epoch 114/200\n",
      "36/36 [==============================] - 0s 7ms/step - loss: 0.0112\n",
      "Epoch 115/200\n",
      "36/36 [==============================] - 0s 8ms/step - loss: 0.0116\n",
      "Epoch 116/200\n",
      "36/36 [==============================] - 0s 8ms/step - loss: 0.0144\n",
      "Epoch 117/200\n",
      "36/36 [==============================] - 0s 8ms/step - loss: 0.0125\n",
      "Epoch 118/200\n",
      "36/36 [==============================] - 0s 7ms/step - loss: 0.0102\n",
      "Epoch 119/200\n",
      "36/36 [==============================] - 0s 7ms/step - loss: 0.0104\n",
      "Epoch 120/200\n",
      "36/36 [==============================] - 0s 7ms/step - loss: 0.0221\n",
      "Epoch 121/200\n",
      "36/36 [==============================] - 0s 7ms/step - loss: 0.0125\n",
      "Epoch 122/200\n",
      "36/36 [==============================] - 0s 7ms/step - loss: 0.0141\n",
      "Epoch 123/200\n",
      "36/36 [==============================] - 0s 7ms/step - loss: 0.0111\n",
      "Epoch 124/200\n",
      "36/36 [==============================] - 0s 7ms/step - loss: 0.0103\n",
      "Epoch 125/200\n",
      "36/36 [==============================] - 0s 7ms/step - loss: 0.0101\n",
      "Epoch 126/200\n",
      "36/36 [==============================] - 0s 7ms/step - loss: 0.0091\n",
      "Epoch 127/200\n",
      "36/36 [==============================] - 0s 7ms/step - loss: 0.0160\n",
      "Epoch 128/200\n",
      "36/36 [==============================] - 0s 8ms/step - loss: 0.0125\n",
      "Epoch 129/200\n",
      "36/36 [==============================] - 0s 9ms/step - loss: 0.0109\n",
      "Epoch 130/200\n",
      "36/36 [==============================] - 0s 8ms/step - loss: 0.0129\n",
      "Epoch 131/200\n",
      "36/36 [==============================] - 0s 8ms/step - loss: 0.0102\n",
      "Epoch 132/200\n",
      "36/36 [==============================] - 0s 8ms/step - loss: 0.0104\n",
      "Epoch 133/200\n",
      "36/36 [==============================] - 0s 7ms/step - loss: 0.0134\n",
      "Epoch 134/200\n",
      "36/36 [==============================] - 0s 10ms/step - loss: 0.0106\n",
      "Epoch 135/200\n",
      "36/36 [==============================] - 0s 9ms/step - loss: 0.0120\n",
      "Epoch 136/200\n",
      "36/36 [==============================] - 0s 7ms/step - loss: 0.0095\n",
      "Epoch 137/200\n",
      "36/36 [==============================] - 0s 8ms/step - loss: 0.0112\n",
      "Epoch 138/200\n",
      "36/36 [==============================] - 0s 7ms/step - loss: 0.0124\n",
      "Epoch 139/200\n",
      "36/36 [==============================] - 0s 7ms/step - loss: 0.0125\n",
      "Epoch 140/200\n",
      "36/36 [==============================] - 0s 7ms/step - loss: 0.0121\n",
      "Epoch 141/200\n",
      "36/36 [==============================] - 0s 7ms/step - loss: 0.0095\n",
      "Epoch 142/200\n",
      "36/36 [==============================] - 0s 7ms/step - loss: 0.0098\n",
      "Epoch 143/200\n",
      "36/36 [==============================] - 0s 7ms/step - loss: 0.0128\n",
      "Epoch 144/200\n",
      "36/36 [==============================] - 0s 7ms/step - loss: 0.0095\n",
      "Epoch 145/200\n",
      "36/36 [==============================] - 0s 7ms/step - loss: 0.0137\n",
      "Epoch 146/200\n",
      "36/36 [==============================] - 0s 8ms/step - loss: 0.0157\n",
      "Epoch 147/200\n",
      "36/36 [==============================] - 0s 8ms/step - loss: 0.0083\n",
      "Epoch 148/200\n",
      "36/36 [==============================] - 0s 7ms/step - loss: 0.0103\n",
      "Epoch 149/200\n",
      "36/36 [==============================] - 0s 7ms/step - loss: 0.0081\n",
      "Epoch 150/200\n",
      "36/36 [==============================] - 0s 8ms/step - loss: 0.0086\n",
      "Epoch 151/200\n",
      "36/36 [==============================] - 0s 8ms/step - loss: 0.0099\n",
      "Epoch 152/200\n",
      "36/36 [==============================] - 0s 8ms/step - loss: 0.0090\n",
      "Epoch 153/200\n",
      "36/36 [==============================] - 0s 8ms/step - loss: 0.0085\n",
      "Epoch 154/200\n",
      "36/36 [==============================] - 0s 8ms/step - loss: 0.0098\n",
      "Epoch 155/200\n",
      "36/36 [==============================] - 0s 7ms/step - loss: 0.0081\n",
      "Epoch 156/200\n",
      "36/36 [==============================] - 0s 7ms/step - loss: 0.0085\n",
      "Epoch 157/200\n",
      "36/36 [==============================] - 0s 8ms/step - loss: 0.0086\n",
      "Epoch 158/200\n",
      "36/36 [==============================] - 0s 7ms/step - loss: 0.0079\n",
      "Epoch 159/200\n",
      "36/36 [==============================] - 0s 7ms/step - loss: 0.0080\n",
      "Epoch 160/200\n",
      "36/36 [==============================] - 0s 7ms/step - loss: 0.0099\n",
      "Epoch 161/200\n",
      "36/36 [==============================] - 0s 7ms/step - loss: 0.0091\n",
      "Epoch 162/200\n",
      "36/36 [==============================] - 0s 7ms/step - loss: 0.0085\n",
      "Epoch 163/200\n",
      "36/36 [==============================] - 0s 7ms/step - loss: 0.0069\n",
      "Epoch 164/200\n",
      "36/36 [==============================] - 0s 8ms/step - loss: 0.0078\n",
      "Epoch 165/200\n",
      "36/36 [==============================] - 0s 7ms/step - loss: 0.0069\n",
      "Epoch 166/200\n",
      "36/36 [==============================] - 0s 8ms/step - loss: 0.0064\n",
      "Epoch 167/200\n",
      "36/36 [==============================] - 0s 7ms/step - loss: 0.0076\n",
      "Epoch 168/200\n",
      "36/36 [==============================] - 0s 7ms/step - loss: 0.0083\n",
      "Epoch 169/200\n",
      "36/36 [==============================] - 0s 8ms/step - loss: 0.0102\n",
      "Epoch 170/200\n",
      "36/36 [==============================] - 0s 7ms/step - loss: 0.0092\n",
      "Epoch 171/200\n",
      "36/36 [==============================] - 0s 8ms/step - loss: 0.0076\n",
      "Epoch 172/200\n",
      "36/36 [==============================] - 0s 7ms/step - loss: 0.0094\n",
      "Epoch 173/200\n",
      "36/36 [==============================] - 0s 8ms/step - loss: 0.0072\n",
      "Epoch 174/200\n",
      "36/36 [==============================] - 0s 7ms/step - loss: 0.0078\n",
      "Epoch 175/200\n",
      "36/36 [==============================] - 0s 7ms/step - loss: 0.0074\n",
      "Epoch 176/200\n",
      "36/36 [==============================] - 0s 7ms/step - loss: 0.0069\n",
      "Epoch 177/200\n",
      "36/36 [==============================] - 0s 7ms/step - loss: 0.0079\n",
      "Epoch 178/200\n",
      "36/36 [==============================] - 0s 7ms/step - loss: 0.0107\n",
      "Epoch 179/200\n",
      "36/36 [==============================] - 0s 7ms/step - loss: 0.0066\n",
      "Epoch 180/200\n",
      "36/36 [==============================] - 0s 7ms/step - loss: 0.0066\n",
      "Epoch 181/200\n",
      "36/36 [==============================] - 0s 7ms/step - loss: 0.0086\n",
      "Epoch 182/200\n",
      "36/36 [==============================] - 0s 7ms/step - loss: 0.0091\n",
      "Epoch 183/200\n",
      "36/36 [==============================] - 0s 8ms/step - loss: 0.0138\n",
      "Epoch 184/200\n",
      "36/36 [==============================] - 0s 7ms/step - loss: 0.0075\n",
      "Epoch 185/200\n",
      "36/36 [==============================] - 0s 7ms/step - loss: 0.0074\n",
      "Epoch 186/200\n",
      "36/36 [==============================] - 0s 7ms/step - loss: 0.0077\n",
      "Epoch 187/200\n",
      "36/36 [==============================] - 0s 7ms/step - loss: 0.0075\n",
      "Epoch 188/200\n",
      "36/36 [==============================] - 0s 8ms/step - loss: 0.0061\n",
      "Epoch 189/200\n",
      "36/36 [==============================] - 0s 9ms/step - loss: 0.0073\n",
      "Epoch 190/200\n",
      "36/36 [==============================] - 0s 8ms/step - loss: 0.0063\n",
      "Epoch 191/200\n",
      "36/36 [==============================] - 0s 8ms/step - loss: 0.0057\n",
      "Epoch 192/200\n",
      "36/36 [==============================] - 0s 8ms/step - loss: 0.0085\n",
      "Epoch 193/200\n",
      "36/36 [==============================] - 0s 8ms/step - loss: 0.0116\n",
      "Epoch 194/200\n",
      "36/36 [==============================] - 0s 8ms/step - loss: 0.0058\n",
      "Epoch 195/200\n",
      "36/36 [==============================] - 0s 7ms/step - loss: 0.0071\n",
      "Epoch 196/200\n",
      "36/36 [==============================] - 0s 8ms/step - loss: 0.0074\n",
      "Epoch 197/200\n",
      "36/36 [==============================] - 0s 8ms/step - loss: 0.0066\n",
      "Epoch 198/200\n",
      "36/36 [==============================] - 0s 8ms/step - loss: 0.0069\n",
      "Epoch 199/200\n",
      "36/36 [==============================] - 0s 7ms/step - loss: 0.0073\n",
      "Epoch 200/200\n",
      "36/36 [==============================] - 0s 7ms/step - loss: 0.0088\n"
     ]
    },
    {
     "data": {
      "text/plain": [
       "<keras.callbacks.History at 0x21ac83d07c0>"
      ]
     },
     "execution_count": 26,
     "metadata": {},
     "output_type": "execute_result"
    }
   ],
   "source": [
    "model.fit_generator(generator,epochs=200)"
   ]
  },
  {
   "cell_type": "code",
   "execution_count": 27,
   "id": "2ad3e32f",
   "metadata": {},
   "outputs": [
    {
     "data": {
      "text/plain": [
       "[<matplotlib.lines.Line2D at 0x21accb528e0>]"
      ]
     },
     "execution_count": 27,
     "metadata": {},
     "output_type": "execute_result"
    },
    {
     "data": {
      "image/png": "[encoded data removed]",
      "text/plain": [
       "<Figure size 432x288 with 1 Axes>"
      ]
     },
     "metadata": {
      "needs_background": "light"
     },
     "output_type": "display_data"
    }
   ],
   "source": [
    "loss_per_epoch = model.history.history['loss']\n",
    "plt.plot(range(len(loss_per_epoch)),loss_per_epoch)"
   ]
  },
  {
   "cell_type": "code",
   "execution_count": 28,
   "id": "a4fb2219",
   "metadata": {},
   "outputs": [
    {
     "name": "stdout",
     "output_type": "stream",
     "text": [
      "1/1 [==============================] - 0s 307ms/step\n",
      "1/1 [==============================] - 0s 25ms/step\n",
      "1/1 [==============================] - 0s 22ms/step\n",
      "1/1 [==============================] - 0s 26ms/step\n",
      "1/1 [==============================] - 0s 25ms/step\n",
      "1/1 [==============================] - 0s 23ms/step\n",
      "1/1 [==============================] - 0s 29ms/step\n",
      "1/1 [==============================] - 0s 33ms/step\n",
      "1/1 [==============================] - 0s 29ms/step\n",
      "1/1 [==============================] - 0s 24ms/step\n",
      "1/1 [==============================] - 0s 26ms/step\n",
      "1/1 [==============================] - 0s 23ms/step\n",
      "1/1 [==============================] - 0s 23ms/step\n"
     ]
    }
   ],
   "source": [
    "#Predicting using our model on the testing dataset\n",
    "test_predictions = []\n",
    "\n",
    "first_batch = scaled_train[-n_input:]\n",
    "current_batch = first_batch.reshape((1, n_input, n_features))\n",
    "\n",
    "for i in range(len(test)):\n",
    "      \n",
    "    current_pred = model.predict(current_batch)[0]\n",
    "    test_predictions.append(current_pred) \n",
    "    \n",
    "    current_batch = np.append(current_batch[:,1:,:],[[current_pred]],axis=1)"
   ]
  },
  {
   "cell_type": "code",
   "execution_count": 29,
   "id": "e694ed51",
   "metadata": {},
   "outputs": [],
   "source": [
    "test_predictions = scaler.inverse_transform(test_predictions)"
   ]
  },
  {
   "cell_type": "code",
   "execution_count": 30,
   "id": "034cd3d9",
   "metadata": {},
   "outputs": [
    {
     "name": "stdout",
     "output_type": "stream",
     "text": [
      "(13, 1)\n",
      "(13, 1)\n"
     ]
    }
   ],
   "source": [
    "print(test_predictions.shape)\n",
    "print(test_arr.shape)"
   ]
  },
  {
   "cell_type": "code",
   "execution_count": 31,
   "id": "e3ea00cd",
   "metadata": {},
   "outputs": [],
   "source": [
    "test_arr['Predictions'] = test_predictions"
   ]
  },
  {
   "cell_type": "code",
   "execution_count": 32,
   "id": "29c9203d",
   "metadata": {},
   "outputs": [
    {
     "data": {
      "text/plain": [
       "<matplotlib.legend.Legend at 0x21accc9c1f0>"
      ]
     },
     "execution_count": 32,
     "metadata": {},
     "output_type": "execute_result"
    },
    {
     "data": {
      "image/png": "[encoded data removed]",
      "text/plain": [
       "<Figure size 432x288 with 1 Axes>"
      ]
     },
     "metadata": {
      "needs_background": "light"
     },
     "output_type": "display_data"
    }
   ],
   "source": [
    "plt.plot(test_arr['AQI'],label = 'AQI')\n",
    "plt.plot(test_arr['Predictions'],label = 'Predictions')\n",
    "\n",
    "plt.legend()"
   ]
  },
  {
   "cell_type": "code",
   "execution_count": 33,
   "id": "a04a8586",
   "metadata": {},
   "outputs": [
    {
     "name": "stdout",
     "output_type": "stream",
     "text": [
      "RMSE on the testing dataset =  27.556406794677457\n",
      "India_AQI= 233.8256155754915\n"
     ]
    }
   ],
   "source": [
    "RMSE_test=np.sqrt(mean_squared_error(test_arr['AQI'],test_arr['Predictions']))\n",
    "print('RMSE on the testing dataset = ',RMSE_test)\n",
    "print('India_AQI=',test_arr['AQI'].mean())"
   ]
  },
  {
   "cell_type": "code",
   "execution_count": 34,
   "id": "40b0b4eb",
   "metadata": {},
   "outputs": [
    {
     "name": "stdout",
     "output_type": "stream",
     "text": [
      "1/1 [==============================] - 0s 32ms/step\n",
      "1/1 [==============================] - 0s 26ms/step\n",
      "1/1 [==============================] - 0s 36ms/step\n",
      "1/1 [==============================] - 0s 26ms/step\n",
      "1/1 [==============================] - 0s 23ms/step\n",
      "1/1 [==============================] - 0s 27ms/step\n",
      "1/1 [==============================] - 0s 23ms/step\n",
      "1/1 [==============================] - 0s 25ms/step\n",
      "1/1 [==============================] - 0s 26ms/step\n",
      "1/1 [==============================] - 0s 26ms/step\n",
      "1/1 [==============================] - 0s 26ms/step\n",
      "1/1 [==============================] - 0s 28ms/step\n",
      "1/1 [==============================] - 0s 28ms/step\n",
      "1/1 [==============================] - 0s 27ms/step\n",
      "1/1 [==============================] - 0s 26ms/step\n",
      "1/1 [==============================] - 0s 31ms/step\n",
      "1/1 [==============================] - 0s 24ms/step\n",
      "1/1 [==============================] - 0s 27ms/step\n",
      "1/1 [==============================] - 0s 27ms/step\n",
      "1/1 [==============================] - 0s 25ms/step\n",
      "1/1 [==============================] - 0s 26ms/step\n",
      "1/1 [==============================] - 0s 27ms/step\n",
      "1/1 [==============================] - 0s 28ms/step\n",
      "1/1 [==============================] - 0s 30ms/step\n",
      "1/1 [==============================] - 0s 30ms/step\n",
      "1/1 [==============================] - 0s 32ms/step\n",
      "1/1 [==============================] - 0s 26ms/step\n",
      "1/1 [==============================] - 0s 28ms/step\n",
      "1/1 [==============================] - 0s 25ms/step\n",
      "1/1 [==============================] - 0s 26ms/step\n",
      "1/1 [==============================] - 0s 25ms/step\n",
      "1/1 [==============================] - 0s 24ms/step\n",
      "1/1 [==============================] - 0s 23ms/step\n",
      "1/1 [==============================] - 0s 24ms/step\n",
      "1/1 [==============================] - 0s 27ms/step\n",
      "1/1 [==============================] - 0s 25ms/step\n",
      "1/1 [==============================] - 0s 26ms/step\n",
      "1/1 [==============================] - 0s 22ms/step\n",
      "1/1 [==============================] - 0s 25ms/step\n",
      "1/1 [==============================] - 0s 26ms/step\n",
      "1/1 [==============================] - 0s 41ms/step\n",
      "1/1 [==============================] - 0s 35ms/step\n",
      "1/1 [==============================] - 0s 29ms/step\n",
      "1/1 [==============================] - 0s 28ms/step\n",
      "1/1 [==============================] - 0s 26ms/step\n",
      "1/1 [==============================] - 0s 26ms/step\n",
      "1/1 [==============================] - 0s 26ms/step\n",
      "1/1 [==============================] - 0s 25ms/step\n"
     ]
    }
   ],
   "source": [
    "#Predicting using our model on the training dataset\n",
    "train_predictions = []\n",
    "\n",
    "first_eval_batch = scaled_train[:n_input]\n",
    "current_batch = first_eval_batch.reshape((1, n_input, n_features))\n",
    "\n",
    "for i in range(len(train-n_input)):\n",
    "      \n",
    "    current_pred = model.predict(current_batch)[0]\n",
    "    train_predictions.append(current_pred) \n",
    "    \n",
    "    current_batch = np.append(current_batch[:,1:,:],[[current_pred]],axis=1)"
   ]
  },
  {
   "cell_type": "code",
   "execution_count": 35,
   "id": "97e78d87",
   "metadata": {},
   "outputs": [],
   "source": [
    "train_predictions = scaler.inverse_transform(train_predictions)"
   ]
  },
  {
   "cell_type": "code",
   "execution_count": 36,
   "id": "477ba2b4",
   "metadata": {},
   "outputs": [
    {
     "name": "stdout",
     "output_type": "stream",
     "text": [
      "(48, 1)\n",
      "(48, 1)\n"
     ]
    }
   ],
   "source": [
    "print(train_predictions.shape)\n",
    "print(train_arr.shape)"
   ]
  },
  {
   "cell_type": "code",
   "execution_count": 37,
   "id": "29d8b724",
   "metadata": {},
   "outputs": [],
   "source": [
    "train_arr['Predictions'] = train_predictions"
   ]
  },
  {
   "cell_type": "code",
   "execution_count": 38,
   "id": "b920d5bb",
   "metadata": {},
   "outputs": [
    {
     "data": {
      "text/plain": [
       "<matplotlib.legend.Legend at 0x21ac98ab490>"
      ]
     },
     "execution_count": 38,
     "metadata": {},
     "output_type": "execute_result"
    },
    {
     "data": {
      "image/png": "[encoded data removed]",
      "text/plain": [
       "<Figure size 864x576 with 1 Axes>"
      ]
     },
     "metadata": {
      "needs_background": "light"
     },
     "output_type": "display_data"
    }
   ],
   "source": [
    "plt.figure(figsize=(12,8))\n",
    "plt.plot(train_arr['AQI'],label = 'AQI')\n",
    "plt.plot(train_arr['Predictions'],label = 'Predictions')\n",
    "plt.legend()"
   ]
  },
  {
   "cell_type": "code",
   "execution_count": 39,
   "id": "a1111e64",
   "metadata": {},
   "outputs": [
    {
     "name": "stdout",
     "output_type": "stream",
     "text": [
      "RMSE on the training dataset =  54.38300140914808\n",
      "India_AQI= 274.9948553397072\n"
     ]
    }
   ],
   "source": [
    "RMSE_train =np.sqrt(mean_squared_error(train_arr['AQI'],train_arr['Predictions']))\n",
    "print('RMSE on the training dataset = ',RMSE_train)\n",
    "print('India_AQI=',train_arr['AQI'].mean())"
   ]
  },
  {
   "cell_type": "code",
   "execution_count": 40,
   "id": "e3edeeb6",
   "metadata": {},
   "outputs": [],
   "source": [
    "delhi_arr= delhi\n",
    "scaled_delhi = scaler.transform(delhi_arr)"
   ]
  },
  {
   "cell_type": "code",
   "execution_count": 41,
   "id": "f0242622",
   "metadata": {},
   "outputs": [
    {
     "name": "stdout",
     "output_type": "stream",
     "text": [
      "1/1 [==============================] - 0s 33ms/step\n",
      "1/1 [==============================] - 0s 24ms/step\n",
      "1/1 [==============================] - 0s 27ms/step\n",
      "1/1 [==============================] - 0s 23ms/step\n",
      "1/1 [==============================] - 0s 23ms/step\n",
      "1/1 [==============================] - 0s 22ms/step\n",
      "1/1 [==============================] - 0s 21ms/step\n",
      "1/1 [==============================] - 0s 29ms/step\n",
      "1/1 [==============================] - 0s 24ms/step\n",
      "1/1 [==============================] - 0s 24ms/step\n",
      "1/1 [==============================] - 0s 28ms/step\n",
      "1/1 [==============================] - 0s 28ms/step\n"
     ]
    }
   ],
   "source": [
    "#Making the future predictions using our model\n",
    "fut_predictions = []\n",
    "\n",
    "first_eval_batch = scaled_delhi[-n_input:]\n",
    "current_batch = first_eval_batch.reshape((1, n_input, n_features))\n",
    "\n",
    "for i in range(12):\n",
    "    \n",
    "    current_pred = model.predict(current_batch)[0]\n",
    "    \n",
    "    \n",
    "    fut_predictions.append(current_pred) \n",
    "    \n",
    "    current_batch = np.append(current_batch[:,1:,:],[[current_pred]],axis=1)"
   ]
  },
  {
   "cell_type": "code",
   "execution_count": 42,
   "id": "4564d77e",
   "metadata": {},
   "outputs": [],
   "source": [
    "fut_predictions = scaler.inverse_transform(fut_predictions)"
   ]
  },
  {
   "cell_type": "code",
   "execution_count": 43,
   "id": "62e587ea",
   "metadata": {},
   "outputs": [
    {
     "data": {
      "text/plain": [
       "[<matplotlib.lines.Line2D at 0x21accd32460>]"
      ]
     },
     "execution_count": 43,
     "metadata": {},
     "output_type": "execute_result"
    },
    {
     "data": {
      "image/png": "[encoded data removed]",
      "text/plain": [
       "<Figure size 432x288 with 1 Axes>"
      ]
     },
     "metadata": {
      "needs_background": "light"
     },
     "output_type": "display_data"
    }
   ],
   "source": [
    "\n",
    "plt.plot(fut_predictions)"
   ]
  },
  {
   "cell_type": "code",
   "execution_count": 44,
   "id": "b96ed104",
   "metadata": {},
   "outputs": [],
   "source": [
    "complete_pred = np.concatenate((delhi_arr,fut_predictions))"
   ]
  },
  {
   "cell_type": "code",
   "execution_count": 45,
   "id": "2d7d7581",
   "metadata": {},
   "outputs": [
    {
     "data": {
      "text/plain": [
       "[<matplotlib.lines.Line2D at 0x21acbb0f1f0>]"
      ]
     },
     "execution_count": 45,
     "metadata": {},
     "output_type": "execute_result"
    },
    {
     "data": {
      "image/png": "[encoded data removed]",
      "text/plain": [
       "<Figure size 432x288 with 1 Axes>"
      ]
     },
     "metadata": {
      "needs_background": "light"
     },
     "output_type": "display_data"
    }
   ],
   "source": [
    "\n",
    "plt.plot(complete_pred)"
   ]
  },
  {
   "cell_type": "code",
   "execution_count": null,
   "id": "7f3a1ed2",
   "metadata": {},
   "outputs": [],
   "source": []
  }
 ],
 "metadata": {
  "kernelspec": {
   "display_name": "Python 3 (ipykernel)",
   "language": "python",
   "name": "python3"
  },
  "language_info": {
   "codemirror_mode": {
    "name": "ipython",
    "version": 3
   },
   "file_extension": ".py",
   "mimetype": "text/x-python",
   "name": "python",
   "nbconvert_exporter": "python",
   "pygments_lexer": "ipython3",
   "version": "3.9.7"
  }
 },
 "nbformat": 4,
 "nbformat_minor": 5
}
